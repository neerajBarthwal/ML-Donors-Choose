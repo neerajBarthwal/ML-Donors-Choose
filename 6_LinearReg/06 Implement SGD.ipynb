{
 "cells": [
  {
   "cell_type": "code",
   "execution_count": 1,
   "metadata": {
    "colab": {},
    "colab_type": "code",
    "id": "REYPoTJ1Af7u"
   },
   "outputs": [],
   "source": [
    "import warnings\n",
    "warnings.filterwarnings(\"ignore\")\n",
    "from sklearn.datasets import load_boston\n",
    "from random import seed\n",
    "from random import randrange\n",
    "from csv import reader\n",
    "from math import sqrt\n",
    "from sklearn import preprocessing\n",
    "import pandas as pd\n",
    "import numpy as np\n",
    "import matplotlib.pyplot as plt\n",
    "from prettytable import PrettyTable\n",
    "from sklearn.linear_model import SGDRegressor\n",
    "from sklearn import preprocessing\n",
    "from sklearn.metrics import mean_squared_error\n",
    "from sklearn.model_selection import train_test_split\n",
    "import matplotlib.pyplot as plt"
   ]
  },
  {
   "cell_type": "code",
   "execution_count": 2,
   "metadata": {
    "colab": {},
    "colab_type": "code",
    "id": "NTQ2iH-kAwbo"
   },
   "outputs": [],
   "source": [
    "X = load_boston().data\n",
    "Y = load_boston().target"
   ]
  },
  {
   "cell_type": "code",
   "execution_count": 3,
   "metadata": {
    "colab": {},
    "colab_type": "code",
    "id": "FgUW39s6Be0U"
   },
   "outputs": [
    {
     "data": {
      "text/plain": [
       "(506, 13)"
      ]
     },
     "execution_count": 3,
     "metadata": {},
     "output_type": "execute_result"
    }
   ],
   "source": [
    "scaler = preprocessing.StandardScaler().fit(X)\n",
    "X = scaler.transform(X)\n",
    "X.shape"
   ]
  },
  {
   "cell_type": "code",
   "execution_count": 4,
   "metadata": {},
   "outputs": [],
   "source": [
    "X_train, X_test, Y_train, Y_test = train_test_split(X, Y, test_size = 0.30, random_state = 5)"
   ]
  },
  {
   "cell_type": "code",
   "execution_count": 5,
   "metadata": {},
   "outputs": [
    {
     "name": "stdout",
     "output_type": "stream",
     "text": [
      "(354, 13) (354,)\n"
     ]
    }
   ],
   "source": [
    "print(X_train.shape, Y_train.shape)"
   ]
  },
  {
   "cell_type": "markdown",
   "metadata": {},
   "source": [
    "# Implementation of LinearRegression with SGD"
   ]
  },
  {
   "cell_type": "markdown",
   "metadata": {},
   "source": [
    "**Model Parameters**\n",
    "\n",
    "* Iterations : 400\n",
    "* Learning Rate (alpha): 0.01\n",
    "* Weights (initialized to zero)"
   ]
  },
  {
   "cell_type": "code",
   "execution_count": 16,
   "metadata": {},
   "outputs": [],
   "source": [
    "class LinearRegressionSGD:\n",
    "    \n",
    "    def __init__(self,alpha,itr,theta):\n",
    "        self.alpha = alpha\n",
    "        self.itr = itr\n",
    "        self.theta = theta\n",
    "        \n",
    "    def predict(self,x,theta):\n",
    "        '''\n",
    "            predict the y values for given x and theta\n",
    "        '''\n",
    "        return theta.dot(x)\n",
    "    \n",
    "    def cost_function(self,X,THETA,Y):\n",
    "        '''\n",
    "            compute the cost = total loss(Mean Square Error) over the entire dataset\n",
    "        '''\n",
    "        m = len(Y)\n",
    "        J = np.sum(np.power((THETA.dot(X) -Y),2)) /(m)\n",
    "        return J\n",
    "\n",
    "    def fit(self,X,Y):\n",
    "        '''\n",
    "            learns the weight matrix by minimizing mean square error for Linear Regression\n",
    "            and return the weights\n",
    "            \n",
    "            input: x, y\n",
    "            output: wt vector\n",
    "        '''\n",
    "\n",
    "        costs = [0]* self.itr\n",
    "        m = len(Y)\n",
    "        list_of_thetas = []\n",
    "        for iteration in range(self.itr):\n",
    "            h = self.theta.dot(X)\n",
    "            loss = h-Y\n",
    "            gradient = X.dot(loss)/m\n",
    "\n",
    "            self.theta = self.theta - (self.alpha * gradient)\n",
    "            list_of_thetas.append(self.theta)\n",
    "            cost = self.cost_function(X,self.theta,Y)\n",
    "\n",
    "            costs[iteration] = cost\n",
    "        return self.theta, costs, list_of_thetas"
   ]
  },
  {
   "cell_type": "code",
   "execution_count": 17,
   "metadata": {},
   "outputs": [
    {
     "name": "stdout",
     "output_type": "stream",
     "text": [
      "Shape before adding bias term:  (13, 354)\n",
      "Shape after adding bias term:  (14, 354)\n"
     ]
    }
   ],
   "source": [
    "temp = X_train.T\n",
    "print(\"Shape before adding bias term: \", temp.shape)\n",
    "x = np.vstack((np.ones((temp.shape[1]), dtype=temp.dtype),temp))\n",
    "print(\"Shape after adding bias term: \", x.shape)"
   ]
  },
  {
   "cell_type": "code",
   "execution_count": 18,
   "metadata": {},
   "outputs": [],
   "source": [
    "theta = np.zeros((X_train.shape[1]+1))"
   ]
  },
  {
   "cell_type": "code",
   "execution_count": 19,
   "metadata": {},
   "outputs": [],
   "source": [
    "model = LinearRegressionSGD(alpha = 0.01, itr=400,theta=theta)"
   ]
  },
  {
   "cell_type": "code",
   "execution_count": 20,
   "metadata": {},
   "outputs": [],
   "source": [
    "w,c,t = model.fit(x,Y_train)"
   ]
  },
  {
   "cell_type": "markdown",
   "metadata": {},
   "source": [
    "## Plotting cost vs iterations"
   ]
  },
  {
   "cell_type": "code",
   "execution_count": 21,
   "metadata": {},
   "outputs": [
    {
     "data": {
      "text/plain": [
       "Text(0.5, 1.0, 'MSE vs iterations')"
      ]
     },
     "execution_count": 21,
     "metadata": {},
     "output_type": "execute_result"
    },
    {
     "data": {
      "image/png": "[encoded data removed]",
      "text/plain": [
       "<Figure size 432x288 with 1 Axes>"
      ]
     },
     "metadata": {
      "needs_background": "light"
     },
     "output_type": "display_data"
    }
   ],
   "source": [
    "plt.plot(np.arange(1,401),c)\n",
    "plt.xlabel(\"iterations\")\n",
    "plt.ylabel(\"Mean Square Error (Cost)\")\n",
    "plt.title(\"MSE vs iterations\")"
   ]
  },
  {
   "cell_type": "markdown",
   "metadata": {},
   "source": [
    "**Predicting values from the weights returned by model**"
   ]
  },
  {
   "cell_type": "code",
   "execution_count": 22,
   "metadata": {},
   "outputs": [],
   "source": [
    "tem = X_test.T\n",
    "x_test = np.vstack((np.ones((tem.shape[1]), dtype=tem.dtype),tem))\n",
    "#Predicted Values\n",
    "y_predict = model.predict(x_test,w)"
   ]
  },
  {
   "cell_type": "markdown",
   "metadata": {},
   "source": [
    "**Plotting Actual vs Predicted Values(from custom model)**"
   ]
  },
  {
   "cell_type": "code",
   "execution_count": 23,
   "metadata": {},
   "outputs": [
    {
     "data": {
      "text/plain": [
       "Text(0.5, 1.0, 'Actual Values vs Predicted Values')"
      ]
     },
     "execution_count": 23,
     "metadata": {},
     "output_type": "execute_result"
    },
    {
     "data": {
      "image/png": "[encoded data removed]",
      "text/plain": [
       "<Figure size 432x288 with 1 Axes>"
      ]
     },
     "metadata": {
      "needs_background": "light"
     },
     "output_type": "display_data"
    }
   ],
   "source": [
    "plt.scatter(np.arange(len(Y_test)),Y_test,label=\"Actual values\")\n",
    "plt.scatter(np.arange(len(y_predict)),y_predict, label=\"Predicted values\")\n",
    "plt.legend()\n",
    "plt.xlabel(\"\")\n",
    "plt.ylabel(\"Housing Cost\")\n",
    "plt.title(\"Actual Values vs Predicted Values\")"
   ]
  },
  {
   "cell_type": "markdown",
   "metadata": {},
   "source": [
    "# Using Scikit-Learn for LinearRegression"
   ]
  },
  {
   "cell_type": "code",
   "execution_count": 24,
   "metadata": {},
   "outputs": [
    {
     "data": {
      "text/plain": [
       "SGDRegressor(alpha=0.0001, average=False, early_stopping=False, epsilon=0.1,\n",
       "       eta0=0.01, fit_intercept=True, l1_ratio=0.15,\n",
       "       learning_rate='invscaling', loss='squared_loss', max_iter=None,\n",
       "       n_iter=None, n_iter_no_change=5, penalty='l2', power_t=0.25,\n",
       "       random_state=None, shuffle=True, tol=None, validation_fraction=0.1,\n",
       "       verbose=0, warm_start=False)"
      ]
     },
     "execution_count": 24,
     "metadata": {},
     "output_type": "execute_result"
    }
   ],
   "source": [
    "skl_model = SGDRegressor()\n",
    "skl_model.fit(X_train,Y_train)"
   ]
  },
  {
   "cell_type": "markdown",
   "metadata": {},
   "source": [
    "**Predicting values of test data**"
   ]
  },
  {
   "cell_type": "code",
   "execution_count": 25,
   "metadata": {},
   "outputs": [],
   "source": [
    "y_pred_skl = skl_model.predict(X_test)"
   ]
  },
  {
   "cell_type": "markdown",
   "metadata": {},
   "source": [
    "**Plotting Actual vs Predicted Values (from scikit-learn)**"
   ]
  },
  {
   "cell_type": "code",
   "execution_count": 26,
   "metadata": {},
   "outputs": [
    {
     "data": {
      "text/plain": [
       "Text(0.5, 1.0, 'Actual Values vs Predicted Values (scikit-learn)')"
      ]
     },
     "execution_count": 26,
     "metadata": {},
     "output_type": "execute_result"
    },
    {
     "data": {
      "image/png": "[encoded data removed]",
      "text/plain": [
       "<Figure size 432x288 with 1 Axes>"
      ]
     },
     "metadata": {
      "needs_background": "light"
     },
     "output_type": "display_data"
    }
   ],
   "source": [
    "plt.scatter(np.arange(len(Y_test)),Y_test,label=\"Actual values\")\n",
    "plt.scatter(np.arange(len(y_pred_skl)),y_pred_skl, label=\"Predicted values\")\n",
    "plt.legend()\n",
    "plt.xlabel(\"\")\n",
    "plt.ylabel(\"Housing Cost\")\n",
    "plt.title(\"Actual Values vs Predicted Values (scikit-learn)\")"
   ]
  },
  {
   "cell_type": "markdown",
   "metadata": {},
   "source": [
    "**Comparing weights achieved from sckit-learn and custom-model**"
   ]
  },
  {
   "cell_type": "code",
   "execution_count": 27,
   "metadata": {},
   "outputs": [
    {
     "data": {
      "text/plain": [
       "(14,)"
      ]
     },
     "execution_count": 27,
     "metadata": {},
     "output_type": "execute_result"
    }
   ],
   "source": [
    "w.shape"
   ]
  },
  {
   "cell_type": "code",
   "execution_count": 28,
   "metadata": {},
   "outputs": [
    {
     "name": "stdout",
     "output_type": "stream",
     "text": [
      "+-----------------------+-----------------------+\n",
      "| Wts from scikit-learn | Wts from custom model |\n",
      "+-----------------------+-----------------------+\n",
      "|      [21.7755662]     |   21.977428393597865  |\n",
      "|   0.4166928447754231  |  -1.0646929030953642  |\n",
      "|  -0.6959211379660356  |  0.41106616151126935  |\n",
      "|   0.2674852792538484  |  -0.6441506391268554  |\n",
      "|  -0.3515743947705695  |  0.22351015724808548  |\n",
      "|   3.375235017644024   |  -0.5556047715955854  |\n",
      "|  -0.7254253863328829  |   3.243882518442466   |\n",
      "|   -1.764713760975462  |  -0.5497696875323178  |\n",
      "|   0.8037961029344158  |   -1.89213175124705   |\n",
      "|  -0.5549161953895801  |   0.9383459595804698  |\n",
      "|  -1.8845551222532906  |  -0.5706613334834203  |\n",
      "|   1.1475024068543918  |   -1.982217181455551  |\n",
      "|  -2.8337445079953714  |   1.0740411741066003  |\n",
      "+-----------------------+-----------------------+\n"
     ]
    }
   ],
   "source": [
    "x = PrettyTable()\n",
    "x.field_names = [\"Wts from scikit-learn\", \"Wts from custom model\"]\n",
    "\n",
    "x.add_row([skl_model.intercept_, w[0]])\n",
    "for i in range(1,len(w)-1):\n",
    "    x.add_row([skl_model.coef_[i], w[i]])\n",
    "\n",
    "print(x)"
   ]
  },
  {
   "cell_type": "code",
   "execution_count": 29,
   "metadata": {},
   "outputs": [
    {
     "name": "stdout",
     "output_type": "stream",
     "text": [
      "Mean Square Error on test data (Custom Model):  33.33900276318067\n",
      "Mean Square Error on test data (scikit-learn):  34.69941862492631\n"
     ]
    }
   ],
   "source": [
    "mse_custom = model.cost_function(x_test,w,Y_test)\n",
    "mse_skl = mean_squared_error(Y_test,skl_model.predict(X_test))\n",
    "print(\"Mean Square Error on test data (Custom Model): \", mse_custom)\n",
    "print(\"Mean Square Error on test data (scikit-learn): \", mse_skl)"
   ]
  }
 ],
 "metadata": {
  "colab": {
   "name": "Untitled3.ipynb",
   "provenance": [],
   "version": "0.3.2"
  },
  "kernelspec": {
   "display_name": "Python 3",
   "language": "python",
   "name": "python3"
  },
  "language_info": {
   "codemirror_mode": {
    "name": "ipython",
    "version": 3
   },
   "file_extension": ".py",
   "mimetype": "text/x-python",
   "name": "python",
   "nbconvert_exporter": "python",
   "pygments_lexer": "ipython3",
   "version": "3.6.8"
  }
 },
 "nbformat": 4,
 "nbformat_minor": 2
}
